{
  "nbformat": 4,
  "nbformat_minor": 0,
  "metadata": {
    "colab": {
      "name": "NiklasCode10-19-18.ipynb",
      "version": "0.3.2",
      "provenance": [],
      "collapsed_sections": [],
      "toc_visible": true,
      "include_colab_link": true
    },
    "kernelspec": {
      "name": "python3",
      "display_name": "Python 3"
    }
  },
  "cells": [
    {
      "cell_type": "markdown",
      "metadata": {
        "id": "view-in-github",
        "colab_type": "text"
      },
      "source": [
        "[View in Colaboratory](https://colab.research.google.com/github/SeaGoUnlimited/SB-Water-Quality/blob/master/NiklasCode10_19_18.ipynb)"
      ]
    },
    {
      "metadata": {
        "id": "748yaRziE5oq",
        "colab_type": "code",
        "outputId": "07428c5d-c94d-421e-9de4-0bbe782ca0cf",
        "colab": {
          "base_uri": "https://localhost:8080/",
          "height": 615
        }
      },
      "cell_type": "code",
      "source": [
        "! pip install geopandas"
      ],
      "execution_count": 3,
      "outputs": [
        {
          "output_type": "stream",
          "text": [
            "Collecting geopandas\n",
            "\u001b[?25l  Downloading https://files.pythonhosted.org/packages/24/11/d77c157c16909bd77557d00798b05a5b6615ed60acb5900fbe6a65d35e93/geopandas-0.4.0-py2.py3-none-any.whl (899kB)\n",
            "\u001b[K    100% |████████████████████████████████| 901kB 8.7MB/s \n",
            "\u001b[?25hCollecting fiona (from geopandas)\n",
            "\u001b[?25l  Downloading https://files.pythonhosted.org/packages/e3/bf/029958f4e3811ce7017fb5805d5203e8bde6c1816b902964acb2dec67863/Fiona-1.7.13-cp36-cp36m-manylinux1_x86_64.whl (15.8MB)\n",
            "\u001b[K    100% |████████████████████████████████| 15.8MB 2.0MB/s \n",
            "\u001b[?25hRequirement already satisfied: pandas in /usr/local/lib/python3.6/dist-packages (from geopandas) (0.22.0)\n",
            "Collecting pyproj (from geopandas)\n",
            "\u001b[?25l  Downloading https://files.pythonhosted.org/packages/29/72/5c1888c4948a0c7b736d10e0f0f69966e7c0874a660222ed0a2c2c6daa9f/pyproj-1.9.5.1.tar.gz (4.4MB)\n",
            "\u001b[K    100% |████████████████████████████████| 4.4MB 7.9MB/s \n",
            "\u001b[?25hCollecting shapely (from geopandas)\n",
            "\u001b[?25l  Downloading https://files.pythonhosted.org/packages/38/b6/b53f19062afd49bb5abd049aeed36f13bf8d57ef8f3fa07a5203531a0252/Shapely-1.6.4.post2-cp36-cp36m-manylinux1_x86_64.whl (1.5MB)\n",
            "\u001b[K    100% |████████████████████████████████| 1.5MB 14.1MB/s \n",
            "\u001b[?25hRequirement already satisfied: six>=1.7 in /usr/local/lib/python3.6/dist-packages (from fiona->geopandas) (1.11.0)\n",
            "Collecting cligj>=0.4 (from fiona->geopandas)\n",
            "  Downloading https://files.pythonhosted.org/packages/e4/be/30a58b4b0733850280d01f8bd132591b4668ed5c7046761098d665ac2174/cligj-0.5.0-py3-none-any.whl\n",
            "Collecting munch (from fiona->geopandas)\n",
            "  Downloading https://files.pythonhosted.org/packages/68/f4/260ec98ea840757a0da09e0ed8135333d59b8dfebe9752a365b04857660a/munch-2.3.2.tar.gz\n",
            "Collecting click-plugins (from fiona->geopandas)\n",
            "  Downloading https://files.pythonhosted.org/packages/95/dd/fef84cf1678418f241ef542c0288bdf215bdd3e35f1fe03dc5223a2e80ba/click_plugins-1.0.4-py2.py3-none-any.whl\n",
            "Requirement already satisfied: python-dateutil>=2 in /usr/local/lib/python3.6/dist-packages (from pandas->geopandas) (2.5.3)\n",
            "Requirement already satisfied: pytz>=2011k in /usr/local/lib/python3.6/dist-packages (from pandas->geopandas) (2018.5)\n",
            "Requirement already satisfied: numpy>=1.9.0 in /usr/local/lib/python3.6/dist-packages (from pandas->geopandas) (1.14.6)\n",
            "Collecting click<8,>=4.0 (from cligj>=0.4->fiona->geopandas)\n",
            "\u001b[?25l  Downloading https://files.pythonhosted.org/packages/fa/37/45185cb5abbc30d7257104c434fe0b07e5a195a6847506c074527aa599ec/Click-7.0-py2.py3-none-any.whl (81kB)\n",
            "\u001b[K    100% |████████████████████████████████| 81kB 24.3MB/s \n",
            "\u001b[?25hBuilding wheels for collected packages: pyproj, munch\n",
            "  Running setup.py bdist_wheel for pyproj ... \u001b[?25l-\b \b\\\b \b|\b \b/\b \b-\b \b\\\b \b|\b \b/\b \b-\b \b\\\b \b|\b \b/\b \b-\b \b\\\b \b|\b \b/\b \b-\b \b\\\b \b|\b \b/\b \b-\b \b\\\b \b|\b \b/\b \b-\b \b\\\b \b|\b \b/\b \b-\b \b\\\b \b|\b \b/\b \b-\b \b\\\b \b|\b \b/\b \b-\b \b\\\b \b|\b \b/\b \b-\b \b\\\b \b|\b \b/\b \b-\b \b\\\b \b|\b \b/\b \b-\b \b\\\b \b|\b \b/\b \b-\b \b\\\b \b|\b \b/\b \b-\b \b\\\b \b|\b \b/\b \b-\b \b\\\b \b|\b \b/\b \b-\b \b\\\b \b|\b \b/\b \b-\b \b\\\b \b|\b \b/\b \b-\b \b\\\b \b|\b \b/\b \b-\b \b\\\b \b|\b \b/\b \b-\b \b\\\b \b|\b \b/\b \b-\b \b\\\b \b|\b \b/\b \b-\b \b\\\b \b|\b \b/\b \b-\b \b\\\b \b|\b \b/\b \b-\b \b\\\b \b|\b \bdone\n",
            "\u001b[?25h  Stored in directory: /root/.cache/pip/wheels/89/77/ec/a537585d1022dafde0317dd19d33c4a30d4ee61e19f25ebd8e\n",
            "  Running setup.py bdist_wheel for munch ... \u001b[?25l-\b \bdone\n",
            "\u001b[?25h  Stored in directory: /root/.cache/pip/wheels/db/bf/bc/06a3e1bfe0ab27d2e720ceb3cff3159398d92644c0cec2c125\n",
            "Successfully built pyproj munch\n",
            "Installing collected packages: click, cligj, munch, click-plugins, fiona, pyproj, shapely, geopandas\n",
            "Successfully installed click-7.0 click-plugins-1.0.4 cligj-0.5.0 fiona-1.7.13 geopandas-0.4.0 munch-2.3.2 pyproj-1.9.5.1 shapely-1.6.4.post2\n"
          ],
          "name": "stdout"
        }
      ]
    },
    {
      "metadata": {
        "id": "JxkhEyXiig3P",
        "colab_type": "text"
      },
      "cell_type": "markdown",
      "source": [
        "Importing the necessary modules. "
      ]
    },
    {
      "metadata": {
        "id": "PvL6o-Z1G5l5",
        "colab_type": "code",
        "colab": {}
      },
      "cell_type": "code",
      "source": [
        "import os, json\n",
        "import pandas \n",
        "import numpy as np\n",
        "import geopandas\n",
        "from shapely.geometry import Point, LineString"
      ],
      "execution_count": 0,
      "outputs": []
    },
    {
      "metadata": {
        "id": "w-JMVGFmiqwP",
        "colab_type": "text"
      },
      "cell_type": "markdown",
      "source": [
        "Loading json file, extracting the track data, and converting it into a geodataframe."
      ]
    },
    {
      "metadata": {
        "id": "by7GlLA8Hren",
        "colab_type": "code",
        "colab": {}
      },
      "cell_type": "code",
      "source": [
        "#Create a function that loads json by filename\n",
        "#We want two tables, one with track and one with sightings\n",
        "def load_json(filename):\n",
        "  with open(filename) as f:\n",
        "    data = json.load(f)  \n",
        "  data['track'] = extract_track(data)  \n",
        "  trip = pandas.DataFrame([data])\n",
        "  sightings = extract_sightings(data)\n",
        "  return sightings,  trip"
      ],
      "execution_count": 0,
      "outputs": []
    },
    {
      "metadata": {
        "id": "FzDs1T0YRj7A",
        "colab_type": "code",
        "colab": {}
      },
      "cell_type": "code",
      "source": [
        "def extract_track(data):\n",
        "  coordinates = []\n",
        "  for trkpt in data['track']['gpx']['trk']['trkseg']['trkpt']:\n",
        "    coordinate = (float(trkpt['@lon']), float(trkpt['@lat']))\n",
        "    coordinates.append(coordinate)\n",
        "  line = LineString(coordinates).wkt\n",
        "  return line"
      ],
      "execution_count": 0,
      "outputs": []
    },
    {
      "metadata": {
        "id": "Tq6TJbWjjIth",
        "colab_type": "text"
      },
      "cell_type": "markdown",
      "source": [
        "Extracting the sightings data  and putting it into a pandas dataframe. Then created a new datafram which is merged by date. This dataframe is transformed to a point which is stored in the new column, 'coordinates'. Then the dataframe is converted to a geodataframe."
      ]
    },
    {
      "metadata": {
        "id": "XppKLx9PI4XC",
        "colab_type": "code",
        "colab": {}
      },
      "cell_type": "code",
      "source": [
        "#Create a function to extract sightings data\n",
        "def extract_sightings(data):\n",
        "  sightings = data['sightings']\n",
        "  df = pandas.DataFrame()\n",
        "  for sighting in sightings:\n",
        "    df = df.append(sighting, ignore_index=True)    \n",
        "    #create a new data frame merged by date, pulling all the first occurances in the new table\n",
        "  df = df.groupby(by='create_date').first()\n",
        "  df['coordinates'] =  list(zip(df.lon, df.lat))\n",
        "  df['coordinates'] = df['coordinates'].apply(Point)\n",
        "  gdf = geopandas.GeoDataFrame(df, geometry='coordinates')\n",
        "  return gdf"
      ],
      "execution_count": 0,
      "outputs": []
    },
    {
      "metadata": {
        "colab_type": "text",
        "id": "o0vwn35HmKu0"
      },
      "cell_type": "markdown",
      "source": [
        "Main function needed to create a loop."
      ]
    },
    {
      "metadata": {
        "id": "nSK2RxiBeQ83",
        "colab_type": "code",
        "colab": {}
      },
      "cell_type": "code",
      "source": [
        "def load_folder(folder_name):\n",
        "  sighthings = pandas.DataFrame()\n",
        "  trips = pandas.DataFrame()\n",
        "  for filename in os.listdir(folder_name)  :\n",
        "    sighting, trip = loadjson(filename=filename)\n",
        "    sightings.append(sighting)\n",
        "    trips.append(trip)    "
      ],
      "execution_count": 0,
      "outputs": []
    },
    {
      "metadata": {
        "id": "ULJoAgmqTT92",
        "colab_type": "text"
      },
      "cell_type": "markdown",
      "source": [
        "We have extracted the trip data and the sightings..."
      ]
    },
    {
      "metadata": {
        "id": "OsWy7OiOejvG",
        "colab_type": "code",
        "colab": {
          "base_uri": "https://localhost:8080/",
          "height": 148
        },
        "outputId": "abf653ae-feae-4466-dc2d-7868faedadd8"
      },
      "cell_type": "code",
      "source": [
        "sightings, trip = load_json(filename=\"trip_58.json\")\n",
        "rip"
      ],
      "execution_count": 33,
      "outputs": [
        {
          "output_type": "execute_result",
          "data": {
            "text/html": [
              "<div>\n",
              "<style scoped>\n",
              "    .dataframe tbody tr th:only-of-type {\n",
              "        vertical-align: middle;\n",
              "    }\n",
              "\n",
              "    .dataframe tbody tr th {\n",
              "        vertical-align: top;\n",
              "    }\n",
              "\n",
              "    .dataframe thead th {\n",
              "        text-align: right;\n",
              "    }\n",
              "</style>\n",
              "<table border=\"1\" class=\"dataframe\">\n",
              "  <thead>\n",
              "    <tr style=\"text-align: right;\">\n",
              "      <th></th>\n",
              "      <th>CINMS Vessel</th>\n",
              "      <th>CINMS Weather</th>\n",
              "      <th>Comments</th>\n",
              "      <th>Observer Names</th>\n",
              "      <th>create_date</th>\n",
              "      <th>end_date</th>\n",
              "      <th>sightings</th>\n",
              "      <th>start_date</th>\n",
              "      <th>track</th>\n",
              "    </tr>\n",
              "  </thead>\n",
              "  <tbody>\n",
              "    <tr>\n",
              "      <th>0</th>\n",
              "      <td>R/V Fulmar</td>\n",
              "      <td>[{'Beaufort Scale': 2, 'create_date': '2013-07...</td>\n",
              "      <td></td>\n",
              "      <td>Kate Trimlett and ACCESS science team</td>\n",
              "      <td>2013-07-24 14:26:09+00:00</td>\n",
              "      <td>2013-07-24 22:18:37+00:00</td>\n",
              "      <td>[{'create_date': '2013-07-24 19:07:52+00:00', ...</td>\n",
              "      <td>2013-07-24 14:32:36+00:00</td>\n",
              "      <td>LINESTRING (-122.504008 37.656192, -122.504068...</td>\n",
              "    </tr>\n",
              "  </tbody>\n",
              "</table>\n",
              "</div>"
            ],
            "text/plain": [
              "  CINMS Vessel                                      CINMS Weather Comments  \\\n",
              "0   R/V Fulmar  [{'Beaufort Scale': 2, 'create_date': '2013-07...            \n",
              "\n",
              "                          Observer Names                create_date  \\\n",
              "0  Kate Trimlett and ACCESS science team  2013-07-24 14:26:09+00:00   \n",
              "\n",
              "                    end_date  \\\n",
              "0  2013-07-24 22:18:37+00:00   \n",
              "\n",
              "                                           sightings  \\\n",
              "0  [{'create_date': '2013-07-24 19:07:52+00:00', ...   \n",
              "\n",
              "                  start_date  \\\n",
              "0  2013-07-24 14:32:36+00:00   \n",
              "\n",
              "                                               track  \n",
              "0  LINESTRING (-122.504008 37.656192, -122.504068...  "
            ]
          },
          "metadata": {
            "tags": []
          },
          "execution_count": 33
        }
      ]
    },
    {
      "metadata": {
        "id": "8sw3jYS-fcwV",
        "colab_type": "code",
        "colab": {
          "base_uri": "https://localhost:8080/",
          "height": 34
        },
        "outputId": "0221eba2-9b10-459c-e077-db3e6609ccbd"
      },
      "cell_type": "code",
      "source": [
        "#os.cwd()\n",
        "os.listdir('/content/')\n",
        "#load_folder('/content/*.json')\n"
      ],
      "execution_count": 48,
      "outputs": [
        {
          "output_type": "execute_result",
          "data": {
            "text/plain": [
              "['.config', 'sample_data', 'trip_10005.json', 'trip_58.json']"
            ]
          },
          "metadata": {
            "tags": []
          },
          "execution_count": 48
        }
      ]
    }
  ]
}